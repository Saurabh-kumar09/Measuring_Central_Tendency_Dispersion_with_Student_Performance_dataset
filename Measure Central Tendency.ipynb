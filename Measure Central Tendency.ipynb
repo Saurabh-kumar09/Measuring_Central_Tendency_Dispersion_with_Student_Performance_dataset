{
 "cells": [
  {
   "cell_type": "code",
   "execution_count": 21,
   "id": "3c629d96",
   "metadata": {},
   "outputs": [
    {
     "name": "stdout",
     "output_type": "stream",
     "text": [
      "Arithmetic mean of height of 10 students in the sample data is: 121.24\n",
      "Arithmetic mean (using np.mean) of height of 10 students in the sample data is: 121.24\n"
     ]
    }
   ],
   "source": [
    "#Calculate Mean\n",
    "\n",
    "import numpy as np\n",
    "from scipy import stats\n",
    "import statistics\n",
    "import pandas as pd\n",
    "\n",
    "# Weight in lbs of 10 people\n",
    "sample_data = np.array([115.3, 195.5, 120.5, 110.2, 90.4, 105.6, 110.9, 116.3, 122.3, 125.4])\n",
    "\n",
    "## Let us calculate mean first\n",
    "\n",
    "calc_series_sum = sum(sample_data)       #Sum of all the observations in the series\n",
    "calc_series_n   = len(sample_data)      #Count of observations in the series\n",
    "calc_arith_mean = round(calc_series_sum / calc_series_n,2) #Calculate mean = sum of all observations / count of observations\n",
    "print(\"Arithmetic mean of height of \"+str(calc_series_n)+\" students in the sample data is: \"+str(calc_arith_mean)) \n",
    "\n",
    "\n",
    "# Display the mean rounded to 2 decimal places\n",
    "\n",
    "calc_arith_mean_pkg = round(np.mean(sample_data),2) #Making use of \"mean\" function within numpy\n",
    "print(\"Arithmetic mean (using np.mean) of height of \"+str(calc_series_n)+\" students in the sample data is: \"\n",
    "      +str(calc_arith_mean_pkg)) "
   ]
  },
  {
   "cell_type": "code",
   "execution_count": 23,
   "id": "84f76898",
   "metadata": {},
   "outputs": [
    {
     "name": "stdout",
     "output_type": "stream",
     "text": [
      "Weighted Arithmetic mean of series x is: 114.62\n"
     ]
    }
   ],
   "source": [
    "# Calculate Weighted Arithmetic mean\n",
    "\n",
    "var_x = np.array([115.3, 195.5, 120.5, 110.2, 90.4, 105.6, 110.9, 116.3, 122.3, 125.4]) \n",
    "\n",
    "# Data series (same as weight of 10 people above)\n",
    "freq_x = np.array([10,2,14,20,10,15,30,16,18,15]) # Frequency of each data point of series x\n",
    "\n",
    "sumproduct = sum(var_x * freq_x)                           # Weighted sum of all observations\n",
    "\n",
    "Weighted_AM = round(sumproduct / sum(freq_x),2)            # Calculate weighted AM, rounded to 2 decimal places\n",
    "print(\"Weighted Arithmetic mean of series x is: \"+str(Weighted_AM))"
   ]
  },
  {
   "cell_type": "code",
   "execution_count": 26,
   "id": "28f17cf5",
   "metadata": {},
   "outputs": [
    {
     "name": "stdout",
     "output_type": "stream",
     "text": [
      "Geometric mean of series x is: 23.28\n",
      "Geometric mean of series x using logarithms is: 23.28\n"
     ]
    }
   ],
   "source": [
    "# Calculate Geometric mean\n",
    "\n",
    "var_geom_x = np.array([10,150,16,25,20,24,20,15])\n",
    "\n",
    "product_x = (10 * 150 * 16 * 25 * 20 * 24 * 20 * 15) #Product of all observations\n",
    "N_x = len(var_geom_x) #Count of observations\n",
    "\n",
    "geomteric_mean_x = round(product_x ** (1/N_x),2) #Calculate geometric mean rounded to 2 decimal places\n",
    "print(\"Geometric mean of series x is: \"+str(geomteric_mean_x))\n",
    "\n",
    "## The above way of calculating product may be cumbersome. Can we use logarithms?\n",
    "\n",
    "product_log_x = sum(np.log(var_geom_x)) \n",
    "geomteric_mean_log_x = round(np.exp((1/N_x)*product_log_x),2) #Exponential to remove the logs\n",
    "print(\"Geometric mean of series x using logarithms is: \"+str(geomteric_mean_log_x))"
   ]
  },
  {
   "cell_type": "code",
   "execution_count": 27,
   "id": "3f481c59",
   "metadata": {},
   "outputs": [
    {
     "name": "stdout",
     "output_type": "stream",
     "text": [
      "Harmonic Mean of series x: 19.16\n"
     ]
    }
   ],
   "source": [
    "# Calculate Harmonic mean\n",
    "\n",
    "var_hm_x = np.array([10,150,16,25,20,24,20,15]) # Data series\n",
    "N_hm_x = len(var_hm_x) # Count of observations\n",
    "\n",
    "sum_reciprocal_hm_x = sum(1 / var_hm_x)\n",
    "harmonic_mean_x = round(N_hm_x / sum_reciprocal_hm_x,2) \n",
    "print(\"Harmonic Mean of series x: \"+str(harmonic_mean_x)) "
   ]
  },
  {
   "cell_type": "code",
   "execution_count": 16,
   "id": "ad837a53",
   "metadata": {},
   "outputs": [
    {
     "name": "stdout",
     "output_type": "stream",
     "text": [
      "Mean Values in the Distribution\n",
      "Age       26.833333\n",
      "Rating     3.673333\n",
      "dtype: float64\n",
      "-------------\n",
      "Median Values in the Distribution\n",
      "Age       26.00\n",
      "Rating     3.96\n",
      "dtype: float64\n"
     ]
    },
    {
     "name": "stderr",
     "output_type": "stream",
     "text": [
      "C:\\Users\\hp\\AppData\\Local\\Temp\\ipykernel_10936\\2176177153.py:16: FutureWarning: Dropping of nuisance columns in DataFrame reductions (with 'numeric_only=None') is deprecated; in a future version this will raise TypeError.  Select only valid columns before calling the reduction.\n",
      "  print (database.mean())\n",
      "C:\\Users\\hp\\AppData\\Local\\Temp\\ipykernel_10936\\2176177153.py:21: FutureWarning: Dropping of nuisance columns in DataFrame reductions (with 'numeric_only=None') is deprecated; in a future version this will raise TypeError.  Select only valid columns before calling the reduction.\n",
      "  print (database.median())\n"
     ]
    }
   ],
   "source": [
    "#Calculate mean and median from a data series\n",
    "import pandas as pd\n",
    "\n",
    "#Create a Dictionary of series\n",
    "\n",
    "d = {'Name':pd.Series(['Raj','Sham','Tusar','Ram','Jaggu','Karishma','Pranab',\n",
    "'Shami','Chahal','Dhoni','Sachin','Bumrah']),\n",
    "     \n",
    "'Age':pd.Series([21,22,24,28,19,18,20,32,32,35,42,29]),\n",
    "     \n",
    "'Rating':pd.Series([4.17,3.89,3.63,5.00,1.98,1.03,2.36,4.00,3.92,4.88,4.99,4.23])}\n",
    "\n",
    "#Create a DataFrame\n",
    "\n",
    "database = pd.DataFrame(d)\n",
    "print (\"Mean Values in the Distribution\")\n",
    "print (database.mean())\n",
    "\n",
    "print (\"-------------\")\n",
    "\n",
    "print (\"Median Values in the Distribution\")\n",
    "print (database.median())"
   ]
  },
  {
   "cell_type": "code",
   "execution_count": 17,
   "id": "98ec5a6f",
   "metadata": {},
   "outputs": [
    {
     "name": "stdout",
     "output_type": "stream",
     "text": [
      "Sorted series is:  [ 10  15  16  20  20  24  25 150]\n"
     ]
    }
   ],
   "source": [
    "# Calculate Median\n",
    "\n",
    "import numpy as np\n",
    "from scipy import stats\n",
    "import statistics\n",
    "import pandas as pd\n",
    "\n",
    "Series_x = np.array([10,150,16,25,20,24,20,15])\n",
    "Sorted_Series_x = np.sort(Series_x) # Sort the series\n",
    "\n",
    "print(\"Sorted series is: \", Sorted_Series_x)"
   ]
  },
  {
   "cell_type": "code",
   "execution_count": 18,
   "id": "78e737aa",
   "metadata": {},
   "outputs": [
    {
     "name": "stdout",
     "output_type": "stream",
     "text": [
      "Element at N/2-th position is:  20  and at N/2+1-th position is:  20\n",
      "Median for series x is:  20.0\n"
     ]
    }
   ],
   "source": [
    "# Number of observations is even. So the median would be the average of N/2-th and N/2+1-th value\n",
    "\n",
    "N_by_2 = int(len(Sorted_Series_x)/2-1) \n",
    "N_by_2_plus_1 = int(len(Sorted_Series_x)/2) \n",
    "\n",
    "Val_1 = Sorted_Series_x[N_by_2] # Get value of the observation at N/2-th position\n",
    "Val_2 = Sorted_Series_x[N_by_2_plus_1] # Get value of the observation at N/2+1-th position\n",
    "\n",
    "print(\"Element at N/2-th position is: \",Val_1, \" and at N/2+1-th position is: \",Val_2)\n",
    "\n",
    "Median_val = (Val_1 + Val_2)/2\n",
    "\n",
    "print(\"Median for series x is: \",Median_val)\n"
   ]
  },
  {
   "cell_type": "code",
   "execution_count": 15,
   "id": "52043059",
   "metadata": {},
   "outputs": [
    {
     "name": "stdout",
     "output_type": "stream",
     "text": [
      "   Y_value  Frequency\n",
      "0        5          4\n",
      "1        6          3\n",
      "2        7          5\n",
      "3        8          3\n",
      "4       10          4\n",
      "Mode of Y is:  7\n"
     ]
    }
   ],
   "source": [
    "#Calculate Mode\n",
    "\n",
    "import numpy as np\n",
    "from scipy import stats\n",
    "import statistics\n",
    "import pandas as pd\n",
    "\n",
    "array_y = np.array([5, 8, 6, 8, 7, 8, 6, 5, 6, 5, 5, 10, 7, 7, 7, 10, 10, 7, 10])\n",
    "Series_y = pd.Series(array_y)\n",
    "\n",
    "freq_table=Series_y.value_counts().sort_index().rename_axis('Y_value').reset_index(name='Frequency')\n",
    "\n",
    "print(freq_table)\n",
    "\n",
    "# Find the mode from the frequency table:\n",
    "\n",
    "Mode_Y = freq_table.loc[freq_table['Frequency']==max(freq_table['Frequency']),'Y_value'].iloc[0]\n",
    "print(\"Mode of Y is: \", Mode_Y)"
   ]
  },
  {
   "cell_type": "code",
   "execution_count": null,
   "id": "1d642373",
   "metadata": {},
   "outputs": [],
   "source": []
  },
  {
   "cell_type": "code",
   "execution_count": null,
   "id": "e09fb94e",
   "metadata": {},
   "outputs": [],
   "source": []
  }
 ],
 "metadata": {
  "kernelspec": {
   "display_name": "Python 3 (ipykernel)",
   "language": "python",
   "name": "python3"
  },
  "language_info": {
   "codemirror_mode": {
    "name": "ipython",
    "version": 3
   },
   "file_extension": ".py",
   "mimetype": "text/x-python",
   "name": "python",
   "nbconvert_exporter": "python",
   "pygments_lexer": "ipython3",
   "version": "3.9.12"
  }
 },
 "nbformat": 4,
 "nbformat_minor": 5
}
